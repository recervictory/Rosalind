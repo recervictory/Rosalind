{
 "cells": [
  {
   "cell_type": "markdown",
   "source": [
    "# [Translating RNA into Protein ](http://rosalind.info/problems/prot/)\r\n",
    "![Rosalind](logo.jpg)"
   ],
   "metadata": {}
  },
  {
   "cell_type": "markdown",
   "source": [
    "## Problem\r\n",
    "The 20 commonly occurring amino acids are abbreviated by using 20 letters from the English alphabet (all letters except for B, J, O, U, X, and Z). Protein strings are constructed from these 20 symbols. Henceforth, the term genetic string will incorporate protein strings along with DNA strings and RNA strings.\r\n",
    "\r\n",
    "The RNA codon table dictates the details regarding the encoding of specific codons into the amino acid alphabet.\r\n",
    "\r\n",
    "#### Given: An RNA string s corresponding to a strand of mRNA (of length at most 10 kbp).\r\n",
    "\r\n",
    "#### Return: The protein string encoded by s.\r\n",
    "\r\n",
    "### Sample Dataset\r\n",
    "> AUGGCCAUGGCGCCCAGAACUGAGAUCAAUAGUACCCGUAUUAACGGGUGA\r\n",
    "### Sample Output\r\n",
    "> MAMAPRTEINSTRING"
   ],
   "metadata": {}
  },
  {
   "cell_type": "code",
   "execution_count": 9,
   "source": [
    "'''\r\n",
    "A solution to a ROSALIND bioinformatics problem.\r\n",
    "Problem Title: Translating RNA into Protein\r\n",
    "Rosalind ID: PROT\r\n",
    "Rosalind #: 008\r\n",
    "URL: http://rosalind.info/problems/prot/\r\n",
    "'''\r\n",
    "\r\n",
    "with open('data/rosalind_prot.txt') as input_data:\r\n",
    "\trna = input_data.read().rstrip('\\n')\r\n",
    "\r\n",
    "rnatopro = {\"UUU\": \"F\", \"CUU\": \"L\", \"AUU\": \"I\", \"GUU\": \"V\",\r\n",
    "       \"UUC\": \"F\", \"CUC\": \"L\", \"AUC\": \"I\", \"GUC\": \"V\",\r\n",
    "       \"UUA\": \"L\", \"CUA\": \"L\", \"AUA\": \"I\", \"GUA\": \"V\",\r\n",
    "       \"UUG\": \"L\", \"CUG\": \"L\", \"AUG\": \"M\", \"GUG\": \"V\",\r\n",
    "       \"UCU\": \"S\", \"CCU\": \"P\", \"ACU\": \"T\", \"GCU\": \"A\",\r\n",
    "       \"UCC\": \"S\", \"CCC\": \"P\", \"ACC\": \"T\", \"GCC\": \"A\",\r\n",
    "       \"UCA\": \"S\", \"CCA\": \"P\", \"ACA\": \"T\", \"GCA\": \"A\",\r\n",
    "       \"UCG\": \"S\", \"CCG\": \"P\", \"ACG\": \"T\", \"GCG\": \"A\",\r\n",
    "       \"UAU\": \"Y\", \"CAU\": \"H\", \"AAU\": \"N\", \"GAU\": \"D\",\r\n",
    "       \"UAC\": \"Y\", \"CAC\": \"H\", \"AAC\": \"N\", \"GAC\": \"D\",\r\n",
    "       \"UAA\": \"Stop\", \"CAA\": \"Q\", \"AAA\": \"K\", \"GAA\": \"E\",\r\n",
    "       \"UAG\": \"Stop\", \"CAG\": \"Q\", \"AAG\": \"K\", \"GAG\": \"E\",\r\n",
    "       \"UGU\": \"C\", \"CGU\": \"R\", \"AGU\": \"S\", \"GGU\": \"G\",\r\n",
    "       \"UGC\": \"C\", \"CGC\": \"R\", \"AGC\": \"S\", \"GGC\": \"G\",\r\n",
    "       \"UGA\": \"Stop\", \"CGA\": \"R\", \"AGA\": \"R\", \"GGA\": \"G\",\r\n",
    "       \"UGG\": \"W\", \"CGG\": \"R\", \"AGG\": \"R\", \"GGG\": \"G\"}\r\n",
    "\r\n",
    "def translate(rna):\r\n",
    "    protein = \"\"\r\n",
    "    for i in range(0,len(rna),3):\r\n",
    "        triplet = rna[i:i+3]\r\n",
    "        if rnatopro[triplet] != \"Stop\" :\r\n",
    "            protein += rnatopro[triplet]\r\n",
    "        else :\r\n",
    "            break\r\n",
    "    return protein\r\n",
    "\r\n",
    "protein = translate(rna)\r\n",
    "print(protein)\r\n",
    "\r\n",
    "with open('output/008_PROT.txt', 'w') as output_data:\r\n",
    "\toutput_data.write(protein)"
   ],
   "outputs": [
    {
     "output_type": "stream",
     "name": "stdout",
     "text": [
      "MGVSVVNQFPADRGHRSKVPAPESDLTPVARYSSNHCNCLYASPTVLHFVALYTPPTGLRSVLRRSQGLHFGSFALNTQANVRESAELPIPMSQRKTANVSTSSSEKLGASGHLDLRSTFLRRRISSLVTYYCQGLETVKQPRLPKVGALVFRDWTTNGRVQFHLPKPDLNSATPLHTILLNSKRMIAIHTFDDFFPISRKSAYPLDVLPFLRTLYLTTRLLQLLMLTVRFDWRGFIRSEEFYFSVCQHMKPTSDLLLSYGQRSDRYGPNRCSEVREGRGFSLELVVTCVGVLAGKQRESMQAVCENARSRWGSPLDYSGLPLKRLNSTSVGQRLIITQFPQSTVPGMSARYDYSHGMQRATGQCVPQFQRIVLGAAMIVSEKRTGNSELTGGARASTHNTIYEVPSPTWRTEWFYVVAMPAENFLITCATGPKLSGSELMQSSSLVHVVPLQQIPPGLPSVAGAGWRNAVTATNVHIGTPNAYQLSRRPKWALPRCASDQSYVESITRQGTRDFPRHPTNIFRSLSELTTAQSRIISRVYSVQHQSIIVFQRFLLLEVLHLAEGTVACICVASPRQTSDVRSRGRHYPQATAAPPPTCHIKCQGRSDLPSGITRMNDCLTHVAEALERPTVRPEYGTKVLNRRIVGSTEPHYPALLSGDFCVRSYDVGSGPAAPWTKYTKWTLTLGGSVGIYHHPAGTLTDEFAGGGFRQTSRGPAHTKDHGAPTPARSLRPEHLPWIKVYRIDVSGINITIFVAESPVEKPSDSQLPTGETLRCFTRTQYILKSDYLTHILLSGRVKVEDCQVDGSLSGKHCIVTISLDSPCSKHAQRGPETGKLYQLWSLNRLEVQGSTTSSISRYFPAPFQDILIYEANKGIFRRAPHPSASVVALDSIRLWAAAFTRAQSMMTTRLQLYCTVLISLGNTRTRVAATTGPSGEQAEPSTHMQRVVLYNRWFRHYKGRHYACCECAAYADLYHSRVLRGGFGCTVHRRVRHDLPDHITLLATGYGNLGSSTWRGELTPLDGGYYSNLVHPWIGRSMVTVAWDIGLYLWIYHGISKCKKETHPLQSMSSGDPAPEQCFPLDTTHYCAGRYLVSFGDSGWGPPLCGSTSVRASRLNFLPDFVHLVPFSTVQVPRAAAAAGRCCCSQNESVCNCQKASLTEHGRVTEVRVGHRSDVLTVYAARNRGKYVPEREQWRIRMRGDFGYVRGKPCVQLQCVVHQYRLCDAVSLPVQSLPLTESPQSARQRKPTRQAYCANCTLIVSSTVYRRVFSAHVLCRGMDDGNKRSTVTDRPWKDSTTLGPTLKTLDRSHSFGRRALTSVGSLRSARAVTSWSPDESMDTSPAAGSMVRALLSDFEFRRSLLATMRAGRWLRRDENLLLLSPLIDMSRSQARGRKGDWRYCITEMGSMITLREVLCCSRFSLGLTHWLAENSFTRQGRGSSITHSFPMANKAEFCSTRQMTTLNARVRTASGTEVERQGRCHPTLRSSRRRSRDSAQINADSGSLLKPRASIGRANCFDIECHWSGPVRKHQYGTRWRCTLGSASPGYGRAWPILRVRYINITHCGTNVSVIYFRPYVSDYLRPFIQCKTTRRRHLHGMRGSTLILAKRKHKQRTGDVNFAQALHSRGTSSNLRLLGLKKSSQRLRSSVAGPRTYWDSVLHLPFLYLHWFGGRAAPPRTRQYYPLCPFSESRLPAISPLGSTSSTRSVLVRANGSFLTYGEHKGHWLTIRLGIRKTGCTSGSLKAGVITRGSVVHKVVEFHSNLGLMLVLRKYRKPVKGQESRIYRKMLERKTPHTRAIFTLSNFYCAVNTTCICPVTRVYPWFRTLVARADYSSLLSANSLVINEYIFASTLYTPSSHRSHVLQSNESQLQKHPNMESSIGPRWVELCQTAACALGRGLGQPAADTVCGAGATPRCSWLLKVHVIDGCIPSVVRRNTHDEKEWRSPFSFSRSYCLATTNLLHGKAAFTWLFVRLCHIVGICMGRQAPITKSIGNLNAPEPHVPRLPSRWSPVRAVVLLIVACAVTKIVKRIAQYVRPVTGSANACEVACSRTCQTVQTARRLRPDHVPPQLSIIPRHESEPQQLFELFSMLVRYDDNEFRSGELSAIPGSLVAQDRVRRHTFDIRGKFPPSSSFGGRAVNKIKRALRVACANIEPMYQPIMEQGMSTTHVHKNTVYTTASLFVHTTIFPAQVTYSSIIGIEHQSTLGMEKIIGAQPCWSARQSAFSRFVSTSRLPRSSPPGHLNSTRAAHRVPRFKELVVMSINKVKLTMRPPLPHKCVPPEGQGNPMAAPVGRSMHDSSRLYVFPIFIQIAYQSTHLTGPRLAMSRAPNVDQKTAPPHRPGADIGFFVIPCVINKPVKGALNSVSLSVVLLNSVENLDPCHITSVANTNREWQPQWTCGVTSGSQQHKAAGHNFLCALPVREAWDANGGHVTSQEAHKQVVVLTQYEGFVGQIARLEYARLTVSSVNHNDPAVVSSRKPPADCYGSSTAFTRGGADTPPTNPDESTDDRRKFYSGFSGRCSVLGSLQSNLSYQPLVTPRTLRTTYRVCTHLGRGSSLRSSSCDVSPSSRPGSTTHGLGCWLRTRTKGKKGDPGQQLLIWSLEDSCGGLGEQTAQNRSLPPPDPQRCTPVPCDRIAGISTPPHRNVILWLYGTVGDALEPAFCPTKFKCRKAATADICIGNSDRRRQGNSKRSTAVCGIYCLRPEIEPPPRGFLALARQTAVLPTYCRTCFYGRLAGATQFVLMAASRTPNVEQVRTLKHIRVRSATPRTPRTYSVLLFIATRRSRISQPSLQSIPWVPKTKNQLNEGIWIYAPSLPDYWASSSPTAMANRGWTGIKFYARTQSCGLQRLLPRNLSRFLPRTDTRLPGLFPDAAANLRPYMHPRKDSLPSYLVIHSVNCSLGLTRALACYLMLELLVRWALACHINDRLGTNGMRAQYTNVHCIFITCGSFTTWGNILSSGTATPAEPRAVICLKRLQTSFPIILALEPLMSVVQFKARFQHQVVATSRERRALSTRMCGY\n"
     ]
    }
   ],
   "metadata": {}
  }
 ],
 "metadata": {
  "orig_nbformat": 4,
  "language_info": {
   "name": "python",
   "version": "3.8.8",
   "mimetype": "text/x-python",
   "codemirror_mode": {
    "name": "ipython",
    "version": 3
   },
   "pygments_lexer": "ipython3",
   "nbconvert_exporter": "python",
   "file_extension": ".py"
  },
  "kernelspec": {
   "name": "python3",
   "display_name": "Python 3.8.8 64-bit ('base': conda)"
  },
  "interpreter": {
   "hash": "7dae6437c12b1d87f00e0e10a4bd22be66a3b8ec05fb1161d95372f28c39fa9e"
  }
 },
 "nbformat": 4,
 "nbformat_minor": 2
}