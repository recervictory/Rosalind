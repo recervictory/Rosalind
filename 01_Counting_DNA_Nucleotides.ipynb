{
  "nbformat": 4,
  "nbformat_minor": 0,
  "metadata": {
    "colab": {
      "name": "01 Counting DNA Nucleotides.ipynb",
      "provenance": [],
      "collapsed_sections": [],
      "authorship_tag": "ABX9TyO5Lx2xJUCg6aa9qZ668g0I",
      "include_colab_link": true
    },
    "kernelspec": {
      "name": "python3",
      "display_name": "Python 3"
    },
    "language_info": {
      "name": "python"
    }
  },
  "cells": [
    {
      "cell_type": "markdown",
      "metadata": {
        "id": "view-in-github",
        "colab_type": "text"
      },
      "source": [
        "<a href=\"https://colab.research.google.com/github/recervictory/Rosalind/blob/master/01_Counting_DNA_Nucleotides.ipynb\" target=\"_parent\"><img src=\"https://colab.research.google.com/assets/colab-badge.svg\" alt=\"Open In Colab\"/></a>"
      ]
    },
    {
      "cell_type": "markdown",
      "metadata": {
        "id": "rfxCk1oDqDdz"
      },
      "source": [
        "# Counting DNA Nucleotides"
      ]
    },
    {
      "cell_type": "markdown",
      "metadata": {
        "id": "aZph3izYp7aN"
      },
      "source": [
        "## Problem\n",
        "\n",
        "A **string** is simply an ordered collection of symbols selected from some alphabet and formed into a word; the length of a string is the number of symbols that it contains.\n",
        "\n",
        "An example of a length 21 DNA string (whose alphabet contains the symbols 'A', 'C', 'G', and 'T') is \"ATGCTTCAGAAAGGTCTTACG.\"\n",
        "\n",
        "#### Given: A DNA string s of length at most 1000 nt.\n",
        "\n",
        "#### Return: Four integers (separated by spaces) counting the respective number of times that the symbols 'A', 'C', 'G', and 'T' occur in s."
      ]
    },
    {
      "cell_type": "markdown",
      "metadata": {
        "id": "3djueMQJqyoJ"
      },
      "source": [
        "### Sample Dataset\n",
        "```\n",
        "AGCTTTTCATTCTGACTGCAACGGGCAATATGTCTCTGTGTGGATTAAAAAAAGAGTGTCTGATAGCAGC\n",
        "```\n",
        "\n",
        "### Sample Output\n",
        "```\n",
        "20 12 17 21\n",
        "```"
      ]
    },
    {
      "cell_type": "code",
      "metadata": {
        "id": "vMXqqJeOprW2"
      },
      "source": [
        "### Code ###\n",
        "\n",
        "'''\n",
        "A solution to a ROSALIND bioinformatics problem.\n",
        "Problem Title: Counting DNA Nucleotides\n",
        "Rosalind ID: DNA\n",
        "Rosalind #: 001\n",
        "URL: http://rosalind.info/problems/dna/\n",
        "'''\n",
        "\n",
        "with open('data/rosalind_dna.txt') as input_data:\n",
        "\tdna = input_data.read()\n",
        "\n",
        "nuc_count = []\n",
        "for nucleotide in ['A', 'C', 'G', 'T']:\n",
        "\tnuc_count.append(str(dna.count(nucleotide)))\n",
        "\n",
        "print(' '.join(nuc_count))\n",
        "with open('output/001_DNA.txt', 'w') as output_data:\n",
        "\toutput_data.write(' '.join(nuc_count))"
      ],
      "execution_count": null,
      "outputs": []
    }
  ]
}