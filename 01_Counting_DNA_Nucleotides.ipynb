{
  "nbformat": 4,
  "nbformat_minor": 2,
  "metadata": {
    "colab": {
      "name": "01 Counting DNA Nucleotides.ipynb",
      "provenance": [],
      "collapsed_sections": [],
      "authorship_tag": "ABX9TyO5Lx2xJUCg6aa9qZ668g0I",
      "include_colab_link": true
    },
    "kernelspec": {
      "name": "python3",
      "display_name": "Python 3.8.8 64-bit ('base': conda)"
    },
    "language_info": {
      "name": "python",
      "version": "3.8.8",
      "mimetype": "text/x-python",
      "codemirror_mode": {
        "name": "ipython",
        "version": 3
      },
      "pygments_lexer": "ipython3",
      "nbconvert_exporter": "python",
      "file_extension": ".py"
    },
    "interpreter": {
      "hash": "7dae6437c12b1d87f00e0e10a4bd22be66a3b8ec05fb1161d95372f28c39fa9e"
    }
  },
  "cells": [
    {
      "cell_type": "markdown",
      "source": [
        "<a href=\"https://colab.research.google.com/github/recervictory/Rosalind/blob/master/01_Counting_DNA_Nucleotides.ipynb\" target=\"_parent\"><img src=\"https://colab.research.google.com/assets/colab-badge.svg\" alt=\"Open In Colab\"/></a>"
      ],
      "metadata": {
        "id": "view-in-github",
        "colab_type": "text"
      }
    },
    {
      "cell_type": "markdown",
      "source": [
        "# Counting DNA Nucleotides"
      ],
      "metadata": {
        "id": "rfxCk1oDqDdz"
      }
    },
    {
      "cell_type": "markdown",
      "source": [
        "## Problem\n",
        "\n",
        "A **string** is simply an ordered collection of symbols selected from some alphabet and formed into a word; the length of a string is the number of symbols that it contains.\n",
        "\n",
        "An example of a length 21 DNA string (whose alphabet contains the symbols 'A', 'C', 'G', and 'T') is \"ATGCTTCAGAAAGGTCTTACG.\"\n",
        "\n",
        "#### Given: A DNA string s of length at most 1000 nt.\n",
        "\n",
        "#### Return: Four integers (separated by spaces) counting the respective number of times that the symbols 'A', 'C', 'G', and 'T' occur in s."
      ],
      "metadata": {
        "id": "aZph3izYp7aN"
      }
    },
    {
      "cell_type": "markdown",
      "source": [
        "### Sample Dataset\n",
        "```\n",
        "AGCTTTTCATTCTGACTGCAACGGGCAATATGTCTCTGTGTGGATTAAAAAAAGAGTGTCTGATAGCAGC\n",
        "```\n",
        "\n",
        "### Sample Output\n",
        "```\n",
        "20 12 17 21\n",
        "```"
      ],
      "metadata": {
        "id": "3djueMQJqyoJ"
      }
    },
    {
      "cell_type": "code",
      "execution_count": 1,
      "source": [
        "### Code ###\r\n",
        "\r\n",
        "'''\r\n",
        "A solution to a ROSALIND bioinformatics problem.\r\n",
        "Problem Title: Counting DNA Nucleotides\r\n",
        "Rosalind ID: DNA\r\n",
        "Rosalind #: 001\r\n",
        "URL: http://rosalind.info/problems/dna/\r\n",
        "'''\r\n",
        "\r\n",
        "with open('data/rosalind_dna.txt') as input_data:\r\n",
        "\tdna = input_data.read()\r\n",
        "\r\n",
        "nuc_count = []\r\n",
        "for nucleotide in ['A', 'C', 'G', 'T']:\r\n",
        "\tnuc_count.append(str(dna.count(nucleotide)))\r\n",
        "\r\n",
        "print(' '.join(nuc_count))\r\n",
        "with open('output/001_DNA.txt', 'w') as output_data:\r\n",
        "\toutput_data.write(' '.join(nuc_count))"
      ],
      "outputs": [
        {
          "output_type": "stream",
          "name": "stdout",
          "text": [
            "215 227 234 235\n"
          ]
        }
      ],
      "metadata": {
        "id": "vMXqqJeOprW2"
      }
    }
  ]
}