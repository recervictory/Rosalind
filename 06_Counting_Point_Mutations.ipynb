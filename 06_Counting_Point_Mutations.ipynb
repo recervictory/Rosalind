{
 "cells": [
  {
   "cell_type": "markdown",
   "source": [
    "# [Counting Point Mutations](http://rosalind.info/problems/hamm/)\r\n",
    "![Rosalind](logo.jpg)"
   ],
   "metadata": {}
  },
  {
   "cell_type": "markdown",
   "source": [
    "## Problem\r\n",
    "Given two strings s and t of equal length, the Hamming distance between s and t, denoted dH(s,t), is the number of corresponding symbols that differ in s and t.\r\n",
    "\r\n",
    "![Hamming Distance](http://rosalind.info/media/problems/hamm/Hamming_distance.png)\r\n",
    "\r\n",
    "#### Given: Two DNA strings s and t of equal length (not exceeding 1 kbp).\r\n",
    "\r\n",
    "#### Return: The Hamming distance dH(s,t).\r\n",
    "\r\n",
    "### Sample Dataset\r\n",
    "```\r\n",
    "GAGCCTACTAACGGGAT\r\n",
    "CATCGTAATGACGGCCT\r\n",
    "```\r\n",
    "### Sample Output\r\n",
    "```\r\n",
    "7\r\n",
    "```\r\n"
   ],
   "metadata": {}
  },
  {
   "cell_type": "code",
   "execution_count": 5,
   "source": [
    "def HammingDistance(s,t):\r\n",
    "    'Return the Hamming distance between equal-length sequences.'\r\n",
    "    if len(s) != len(t):\r\n",
    "        return -1\r\n",
    "    return sum(nt_s != nt_t for nt_s,nt_t in zip(s,t)) \r\n",
    "\r\n",
    "HammingDistance('GAGCCTACTAACGGGAT','CATCGTAATGACGGCCT')"
   ],
   "outputs": [
    {
     "output_type": "execute_result",
     "data": {
      "text/plain": [
       "7"
      ]
     },
     "metadata": {},
     "execution_count": 5
    }
   ],
   "metadata": {}
  },
  {
   "cell_type": "code",
   "execution_count": 6,
   "source": [
    "'''\r\n",
    "A solution to a ROSALIND bioinformatics problem.\r\n",
    "Problem Title: Counting Point Mutations\r\n",
    "Rosalind ID: HAMM\r\n",
    "Rosalind #: 006\r\n",
    "URL: http://rosalind.info/problems/hamm/\r\n",
    "'''\r\n",
    "with open('data/rosalind_hamm.txt') as input_data:\r\n",
    "\ts, t = [line.rstrip('\\n') for line in input_data.readlines()]\r\n",
    "\r\n",
    "count = HammingDistance(s,t)\r\n",
    "\r\n",
    "print(count)\r\n",
    "with open('output/006_HAMM.txt', 'w') as output_data:\r\n",
    "\toutput_data.write(str(count))"
   ],
   "outputs": [
    {
     "output_type": "stream",
     "name": "stdout",
     "text": [
      "479\n"
     ]
    }
   ],
   "metadata": {}
  }
 ],
 "metadata": {
  "orig_nbformat": 4,
  "language_info": {
   "name": "python",
   "version": "3.8.8",
   "mimetype": "text/x-python",
   "codemirror_mode": {
    "name": "ipython",
    "version": 3
   },
   "pygments_lexer": "ipython3",
   "nbconvert_exporter": "python",
   "file_extension": ".py"
  },
  "kernelspec": {
   "name": "python3",
   "display_name": "Python 3.8.8 64-bit ('base': conda)"
  },
  "interpreter": {
   "hash": "7dae6437c12b1d87f00e0e10a4bd22be66a3b8ec05fb1161d95372f28c39fa9e"
  }
 },
 "nbformat": 4,
 "nbformat_minor": 2
}