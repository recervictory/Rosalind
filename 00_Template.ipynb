{
 "cells": [
  {
   "cell_type": "markdown",
   "source": [
    "# [ROSALIND](http://rosalind.info/)\r\n",
    "![Rosalind](logo.jpg)"
   ],
   "metadata": {}
  },
  {
   "cell_type": "markdown",
   "source": [
    "## Problem\r\n",
    "\r\n",
    "\r\n",
    "\r\n",
    "#### Given: \r\n",
    "\r\n",
    "#### Return: \r\n",
    "\r\n",
    "### Sample Dataset\r\n",
    "```\r\n",
    "\r\n",
    "```\r\n",
    "### Sample Output\r\n",
    "```\r\n",
    "\r\n",
    "```"
   ],
   "metadata": {}
  }
 ],
 "metadata": {
  "orig_nbformat": 4,
  "language_info": {
   "name": "python",
   "version": "3.8.8"
  },
  "kernelspec": {
   "name": "python3",
   "display_name": "Python 3.8.8 64-bit ('base': conda)"
  },
  "interpreter": {
   "hash": "7dae6437c12b1d87f00e0e10a4bd22be66a3b8ec05fb1161d95372f28c39fa9e"
  }
 },
 "nbformat": 4,
 "nbformat_minor": 2
}