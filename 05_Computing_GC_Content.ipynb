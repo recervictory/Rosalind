{
 "cells": [
  {
   "cell_type": "markdown",
   "source": [
    "# Computing GC Content\r\n",
    "![Rosalind](logo.jpg)\r\n"
   ],
   "metadata": {}
  },
  {
   "cell_type": "markdown",
   "source": [
    "## Problem\r\n",
    "The GC-content of a DNA string is given by the percentage of symbols in the string that are 'C' or 'G'. For example, the GC-content of \"AGCTATAG\" is 37.5%. Note that the reverse complement of any DNA string has the same GC-content.\r\n",
    "\r\n",
    "DNA strings must be labeled when they are consolidated into a database. A commonly used method of string labeling is called FASTA format. In this format, the string is introduced by a line that begins with '>', followed by some labeling information. Subsequent lines contain the string itself; the first line to begin with '>' indicates the label of the next string.\r\n",
    "\r\n",
    "In Rosalind's implementation, a string in FASTA format will be labeled by the ID \"Rosalind_xxxx\", where \"xxxx\" denotes a four-digit code between 0000 and 9999.\r\n",
    "\r\n",
    "#### Given: At most 10 DNA strings in FASTA format (of length at most 1 kbp each).\r\n",
    "\r\n",
    "#### Return: The ID of the string having the highest GC-content, followed by the GC-content of that string. Rosalind allows for a default error of 0.001 in all decimal answers unless otherwise stated; please see the note on absolute error below."
   ],
   "metadata": {}
  },
  {
   "cell_type": "markdown",
   "source": [
    "### Sample Dataset\r\n",
    "```\r\n",
    ">Rosalind_6404\r\n",
    "CCTGCGGAAGATCGGCACTAGAATAGCCAGAACCGTTTCTCTGAGGCTTCCGGCCTTCCC\r\n",
    "TCCCACTAATAATTCTGAGG\r\n",
    ">Rosalind_5959\r\n",
    "CCATCGGTAGCGCATCCTTAGTCCAATTAAGTCCCTATCCAGGCGCTCCGCCGAAGGTCT\r\n",
    "ATATCCATTTGTCAGCAGACACGC\r\n",
    ">Rosalind_0808\r\n",
    "CCACCCTCGTGGTATGGCTAGGCATTCAGGAACCGGAGAACGCTTCAGACCAGCCCGGAC\r\n",
    "TGGGAACCTGCGGGCAGTAGGTGGAAT\r\n",
    "```\r\n",
    "### Sample Output\r\n",
    "```\r\n",
    "Rosalind_0808\r\n",
    "60.919540\r\n",
    "```"
   ],
   "metadata": {}
  },
  {
   "cell_type": "code",
   "execution_count": null,
   "source": [
    "def ReadFASTA(filename):\r\n",
    "    '''Extract Sequence name and FASTA sequence from text file\r\n",
    "    Input   : filename\r\n",
    "    Output  : Dict with sequence Name as key and fasta sequence as value\r\n",
    "    '''\r\n",
    "    with open(filename) as file:\r\n",
    "        FASTA = dict()\r\n",
    "        lines = file.readlines()\r\n",
    "        for line in lines:\r\n",
    "            if line.startswith('>'):\r\n",
    "                seqname  = line.rstrip().lstrip('>')\r\n",
    "                FASTA[seqname] = ''\r\n",
    "            else:\r\n",
    "                FASTA[seqname] += line.rstrip()\r\n",
    "        return FASTA"
   ],
   "outputs": [],
   "metadata": {}
  },
  {
   "cell_type": "code",
   "execution_count": 60,
   "source": [
    "\r\n",
    "def gc_content(sequence):\r\n",
    "    '''\r\n",
    "    Input: Nucleotides Sequence as String\r\n",
    "    Output: GC Content in percentage\r\n",
    "    '''\r\n",
    "    return 100 * (sequence.count('G') + sequence.count('C')) / len(sequence)    "
   ],
   "outputs": [],
   "metadata": {}
  },
  {
   "cell_type": "code",
   "execution_count": 83,
   "source": [
    "### Python\r\n",
    "#!/usr/bin/env python\r\n",
    "'''\r\n",
    "A solution to a ROSALIND bioinformatics problem.\r\n",
    "Problem Title: Computing GC Content\r\n",
    "Rosalind ID: GC\r\n",
    "Rosalind #: 005\r\n",
    "URL: http://rosalind.info/problems/gc/\r\n",
    "'''\r\n",
    "\r\n",
    "# Our data is in FASTA form.\r\n",
    "dna_dict = ReadFASTA('data/rosalind_gc.txt')\r\n",
    "\r\n",
    "highest_GC = -1\r\n",
    "highest_seq = ''\r\n",
    "for seqname, dna_seq in dna_dict.items():\r\n",
    "    if gc_content(dna_seq) > highest_GC:\r\n",
    "        highest_seq, highest_GC = seqname, gc_content(dna_seq)\r\n",
    "\r\n",
    "# Print the solution.\r\n",
    "print(highest_seq, '\\n', highest_GC, '\\n')\r\n",
    "\r\n",
    "# Write the solution to a text file.\r\n",
    "with open('output/005_GC.txt', 'w') as output_data:\r\n",
    "\toutput_data.writelines([str(highest_seq),'\\n', str(highest_GC)])"
   ],
   "outputs": [
    {
     "output_type": "stream",
     "name": "stdout",
     "text": [
      "Rosalind_5198 \n",
      " 52.844638949671776 \n",
      "\n"
     ]
    }
   ],
   "metadata": {}
  }
 ],
 "metadata": {
  "orig_nbformat": 4,
  "language_info": {
   "name": "python",
   "version": "3.8.8",
   "mimetype": "text/x-python",
   "codemirror_mode": {
    "name": "ipython",
    "version": 3
   },
   "pygments_lexer": "ipython3",
   "nbconvert_exporter": "python",
   "file_extension": ".py"
  },
  "kernelspec": {
   "name": "python3",
   "display_name": "Python 3.8.8 64-bit ('base': conda)"
  },
  "interpreter": {
   "hash": "7dae6437c12b1d87f00e0e10a4bd22be66a3b8ec05fb1161d95372f28c39fa9e"
  }
 },
 "nbformat": 4,
 "nbformat_minor": 2
}