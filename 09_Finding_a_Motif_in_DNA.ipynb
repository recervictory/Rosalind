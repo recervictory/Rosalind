{
 "cells": [
  {
   "cell_type": "markdown",
   "source": [
    "# [ROSALIND](http://rosalind.info/)\r\n",
    "![Rosalind](logo.jpg)"
   ],
   "metadata": {}
  },
  {
   "cell_type": "markdown",
   "source": [
    "## Problem\r\n",
    "Given two strings s and t, t is a substring of s if t is contained as a contiguous collection of symbols in s (as a result, t must be no longer than s).\r\n",
    "\r\n",
    "The position of a symbol in a string is the total number of symbols found to its left, including itself (e.g., the positions of all occurrences of 'U' in `AUGCUUCAGAAAGGUCUUACG` are 2, 5, 6, 15, 17, and 18). The symbol at position i of s is denoted by s[i].\r\n",
    "\r\n",
    "A substring of s can be represented as s[j:k], where j and k represent the starting and ending positions of the substring in s; for example, if s = `AUGCUUCAGAAAGGUCUUACG`, then s[2:5] = \"UGCU\".\r\n",
    "\r\n",
    "The location of a substring s[j:k] is its beginning position j; note that t will have multiple locations in s if it occurs more than once as a substring of s (see the Sample below).\r\n",
    "\r\n",
    "#### Given: Two DNA strings s and t (each of length at most 1 kbp).\r\n",
    "\r\n",
    "\r\n",
    "#### Return:  All locations of t as a substring of s.\r\n",
    "\r\n",
    "### Sample Dataset\r\n",
    "```\r\n",
    "GATATATGCATATACTT\r\n",
    "ATAT\r\n",
    "```\r\n",
    "### Sample Output\r\n",
    "```\r\n",
    "2 4 10\r\n",
    "```"
   ],
   "metadata": {}
  },
  {
   "cell_type": "code",
   "execution_count": 4,
   "source": [
    "def findMotif(s,t):\r\n",
    "    positions = []\r\n",
    "    for i in range(0, len(s) + 1 - len(t)):\r\n",
    "        if s[ i:i+len(t)] == t:\r\n",
    "            positions.append(str(i + 1))\r\n",
    "    return(\" \".join(positions))\r\n",
    "\r\n",
    "findMotif(\"GATATATGCATATACTT\",\"ATAT\")"
   ],
   "outputs": [
    {
     "output_type": "execute_result",
     "data": {
      "text/plain": [
       "'2 4 10'"
      ]
     },
     "metadata": {},
     "execution_count": 4
    }
   ],
   "metadata": {}
  },
  {
   "cell_type": "code",
   "execution_count": 5,
   "source": [
    "#!/usr/bin/env python\r\n",
    "'''\r\n",
    "A solution to a ROSALIND bioinformatics problem.\r\n",
    "Problem Title: Finding a Motif in DNA\r\n",
    "Rosalind ID: SUBS\r\n",
    "Rosalind #: 009\r\n",
    "URL: http://rosalind.info/problems/subs/\r\n",
    "'''\r\n",
    "\r\n",
    "with open('data/rosalind_subs.txt') as input_data:\r\n",
    "\ts,t = input_data.readlines()\r\n",
    "\ts = s.rstrip()\r\n",
    "\tt = t.rstrip()\r\n",
    "\r\n",
    "motifs = findMotif(s,t)\r\n",
    "\r\n",
    "print(motifs)\r\n",
    "with open('output/009_SUBS.txt', 'w') as output_data:\r\n",
    "\toutput_data.write(motifs)"
   ],
   "outputs": [
    {
     "output_type": "stream",
     "name": "stdout",
     "text": [
      "18 38 54 62 77 135 205 213 232 239 304 335 363 370 377 432 473 480 487 513 565 597 612 619 655 755\n"
     ]
    }
   ],
   "metadata": {}
  }
 ],
 "metadata": {
  "orig_nbformat": 4,
  "language_info": {
   "name": "python",
   "version": "3.8.8",
   "mimetype": "text/x-python",
   "codemirror_mode": {
    "name": "ipython",
    "version": 3
   },
   "pygments_lexer": "ipython3",
   "nbconvert_exporter": "python",
   "file_extension": ".py"
  },
  "kernelspec": {
   "name": "python3",
   "display_name": "Python 3.8.8 64-bit ('base': conda)"
  },
  "interpreter": {
   "hash": "7dae6437c12b1d87f00e0e10a4bd22be66a3b8ec05fb1161d95372f28c39fa9e"
  }
 },
 "nbformat": 4,
 "nbformat_minor": 2
}