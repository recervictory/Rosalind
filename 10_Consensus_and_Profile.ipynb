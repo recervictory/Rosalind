{
 "cells": [
  {
   "cell_type": "markdown",
   "source": [
    "# [Consensus and Profile](http://rosalind.info/problems/cons/)\r\n",
    "![Rosalind](logo.jpg)"
   ],
   "metadata": {}
  },
  {
   "cell_type": "markdown",
   "source": [
    "## Problem\r\n",
    "A matrix is a rectangular table of values divided into rows and columns. An $m×n$ matrix has m rows and n columns. Given a matrix A, we write $A_i,_j$ to indicate the value found at the intersection of row i and column j.\r\n",
    "\r\n",
    "Say that we have a collection of DNA strings, all having the same length n. Their profile matrix is a 4×n matrix P in which P1,j represents the number of times that 'A' occurs in the jth position of one of the strings, P2,j represents the number of times that C occurs in the jth position, and so on (see below).\r\n",
    "\r\n",
    "A consensus string c is a string of length n formed from our collection by taking the most common symbol at each position; the jth symbol of c therefore corresponds to the symbol having the maximum value in the j-th column of the profile matrix. Of course, there may be more than one most common symbol, leading to multiple possible consensus strings.\r\n",
    "\r\n",
    "```\r\n",
    "\r\n",
    "                            A T C C A G C T\r\n",
    "                            G G G C A A C T\r\n",
    "                            A T G G A T C T\r\n",
    "        DNA String          A A G C A A C C\r\n",
    "                            T T G G A A C T\r\n",
    "                            A T G C C A T T\r\n",
    "                            A T G G C A C T\r\n",
    "                            ---------------\r\n",
    "                        *A* 5 1 0 0 5 5 0 0\r\n",
    "        Profile         *C* 0 0 1 4 2 0 6 1\r\n",
    "                        *G* 1 1 6 3 0 1 0 0\r\n",
    "                        *T* 1 5 0 0 0 1 1 6\r\n",
    "                            ----------------\r\n",
    "        Consensus           A T G C A A C T\r\n",
    "\r\n",
    "    \r\n",
    "```\r\n",
    "\r\n",
    "#### Given: A collection of at most 10 DNA strings of equal length (at most 1 kbp) in FASTA format.\r\n",
    "\r\n",
    "#### Return: A consensus string and profile matrix for the collection. (If several possible consensus strings exist, then you may return any one of them.)\r\n",
    "\r\n",
    "### Sample Dataset\r\n",
    "```\r\n",
    ">Rosalind_1\r\n",
    "ATCCAGCT\r\n",
    ">Rosalind_2\r\n",
    "GGGCAACT\r\n",
    ">Rosalind_3\r\n",
    "ATGGATCT\r\n",
    ">Rosalind_4\r\n",
    "AAGCAACC\r\n",
    ">Rosalind_5\r\n",
    "TTGGAACT\r\n",
    ">Rosalind_6\r\n",
    "ATGCCATT\r\n",
    ">Rosalind_7\r\n",
    "ATGGCACT\r\n",
    "```\r\n",
    "### Sample Output\r\n",
    "```\r\n",
    "ATGCAACT\r\n",
    "A: 5 1 0 0 5 5 0 0\r\n",
    "C: 0 0 1 4 2 0 6 1\r\n",
    "G: 1 1 6 3 0 1 0 0\r\n",
    "T: 1 5 0 0 0 1 1 6\r\n",
    "```"
   ],
   "metadata": {}
  },
  {
   "cell_type": "code",
   "execution_count": 4,
   "source": [
    "def ReadFASTA(filename):\r\n",
    "    '''Extract Sequence name and FASTA sequence from text file\r\n",
    "            Input   : filename\r\n",
    "            Output  : Dict with sequence Name as key and fasta sequence as value\r\n",
    "    '''\r\n",
    "    with open(filename) as file:\r\n",
    "        FASTA = dict()\r\n",
    "        lines = file.readlines()\r\n",
    "        for line in lines:\r\n",
    "            if line.startswith('>'):\r\n",
    "                seqname  = line.rstrip().lstrip('>')\r\n",
    "                FASTA[seqname] = ''\r\n",
    "            else:\r\n",
    "                FASTA[seqname] += line.rstrip()\r\n",
    "        return FASTA\r\n",
    "    \r\n",
    "fasta = ReadFASTA('data/rosalind_cons.txt')\r\n",
    "dna_list = list(fasta.values())\r\n"
   ],
   "outputs": [],
   "metadata": {}
  },
  {
   "cell_type": "code",
   "execution_count": 17,
   "source": [
    "def profile(dna_strings):\r\n",
    "        from numpy import zeros\r\n",
    "        matrix = zeros((4,len(dna_strings[0])), dtype = int)\r\n",
    "        nt_index = {'A':0,'C':1, 'G': 2, 'T': 3} \r\n",
    "        for dna in dna_strings:\r\n",
    "                for index, nt in enumerate(dna):\r\n",
    "                        matrix[nt_index[nt]][index] += 1\r\n",
    "        return matrix\r\n",
    "                        "
   ],
   "outputs": [],
   "metadata": {}
  },
  {
   "cell_type": "code",
   "execution_count": 6,
   "source": [
    "def profile(dna_strings):\r\n",
    "        matrix = {key: [0 for e in range(len(dna_strings[0]))] for key in 'ACGT'}\r\n",
    "        for dna in dna_strings:\r\n",
    "                for index, nt in enumerate(dna):\r\n",
    "                        matrix[nt][index] += 1\r\n",
    "        return matrix\r\n",
    "\r\n",
    "matrix = profile(dna_list)"
   ],
   "outputs": [],
   "metadata": {}
  },
  {
   "cell_type": "code",
   "execution_count": 16,
   "source": [
    "def consensus(matrix):\r\n",
    "    con_seq = \"\"\r\n",
    "    for i in range(len(matrix['A'])):\r\n",
    "        base,count = '-1', -1\r\n",
    "        for nt in 'ACGT':\r\n",
    "            if matrix[nt][i] > count:\r\n",
    "                base ,count = nt , matrix[nt][i]\r\n",
    "        con_seq += base\r\n",
    "    return(con_seq)\r\n",
    "\r\n",
    "sequence = consensus(matrix)"
   ],
   "outputs": [],
   "metadata": {}
  },
  {
   "cell_type": "code",
   "execution_count": 18,
   "source": [
    "# Format the count properly\r\n",
    "output = [sequence, 'A:', 'C:', 'G:', 'T:']\r\n",
    "for index, col in enumerate(matrix.values()):\r\n",
    "    for val in col:\r\n",
    "        #print(val)\r\n",
    "        output[index+1] += ' '+str(val)\r\n",
    "\r\n",
    "# Print and write the output\r\n",
    "print('\\n'.join(output))\r\n",
    "with open('output/010_CONS.txt', 'w') as output_data: \r\n",
    "    output_data.write('\\n'.join(output))"
   ],
   "outputs": [
    {
     "output_type": "stream",
     "name": "stdout",
     "text": [
      "AAGACAGCGCCTTCACAAAACCACAGGGCCTCATGGGCACTCGACGGGACGAAGGCGGATAAGTTTAGGCCCGAAACCAGGCGAACAAATTCCCCCTCGTAGATAGAAAAGAAGCAACCCTATCTGCCGAGCAGAGAGCAACATTCCTAATCGCCAGAGGGGTCCCGACGTGCTCTTATAACTATAGAAACGGACCAAAAAAAACGCCTATACAATTTCCGAACCAATCCAATGGACTATCCTGTTTAAGCGCGCAACGTTATTGACCGGAGAAAGATCCACAACAGGGTATCCTCGCGGGCACACACAGATGGTTTAGTCTCGCGCACACCTACTTTATACCCCATCGCTCTCCAAAATAAACGACGGGACTCACTTTGCTGCGAATAACAACTTGAGTAAGCGAGCATGACCCAGCTGGGAAAACAAACAGCAAGATTACACCGAACCCCGCGATGAAAAGACAAGGAAGGCCACAAGACACCGTGGAAGCGCAAGAGTGTGACAGACCCTCCCAAACAAACTGACACCGGAAACGCACAAATAACATTACGAGGGCGTCCGAGTCAAGCCCCTTATCCAGTACTCGGACAAGATACCCGTTAACAATAGGAACTGAATCTTTTGACAATGGCACACAGCACCACAAGTGCTTAAGACAAGCATACTGAGGCACCCAAGGCGAGAGCTCACAAAATACATTTAATTATAGCCAAGCAAACCTAAGAATCGGGGGCCCCGAGTCAACATATCTGAGACGGCAACTATAGCGCTGGCATAGTAGAAACTAAGACAAAACCCCGGGGCGTGACCGTCCACGCGTGAGTTGCGGAAAATCAGGGCAAGCAGGACAAGATCCAATACAAAAAAGTCCAGCCCCTTTCAAACTATCTAAGTTATGCCTATGCCGACTTGGTCAATGCGAATATCGACGATGAATAAACAATTTGAGTCCAGCGAAGGGAACTGCCCCCTCTAGAATTTGAAGCGTAAGCTAG\n",
      "A: 5 3 3 4 2 4 2 2 2 1 1 3 2 1 4 1 6 4 3 3 2 2 4 1 3 1 1 3 1 2 3 2 5 0 1 0 2 2 3 1 3 2 2 4 1 0 1 3 5 3 2 4 5 3 2 2 1 2 3 2 3 4 3 1 3 3 4 3 3 1 1 4 1 4 3 3 2 2 4 2 2 2 1 5 5 2 3 3 4 2 3 2 0 3 1 1 3 2 1 0 3 2 5 1 4 2 3 5 6 3 2 4 5 2 2 4 3 1 2 2 1 4 2 2 2 2 2 3 2 5 0 3 4 1 6 3 4 3 1 3 3 1 4 3 1 1 2 0 5 5 1 2 1 2 1 3 1 3 2 2 3 2 2 2 3 2 2 3 2 2 1 2 1 3 1 2 3 5 2 5 3 3 0 3 0 4 3 3 5 3 1 0 0 4 3 3 4 4 3 3 3 4 5 6 2 2 1 0 2 4 2 4 2 4 3 1 1 1 2 2 1 3 5 1 1 5 3 2 2 3 3 4 1 2 2 4 1 3 3 2 0 1 2 2 1 2 2 4 3 2 1 2 0 1 2 5 5 2 2 1 3 5 2 1 1 4 2 2 2 1 4 2 3 4 3 2 4 2 1 1 3 2 5 3 2 4 1 4 1 2 4 1 1 2 1 2 3 2 2 2 2 2 5 4 4 2 5 2 3 3 4 2 1 4 0 3 2 4 3 3 2 2 3 2 3 1 2 3 2 3 1 2 3 3 1 2 2 1 4 2 7 2 1 3 3 5 3 2 2 2 2 1 3 1 2 3 3 4 3 2 4 3 5 2 3 4 0 2 0 3 5 2 2 3 3 3 2 2 2 2 2 3 3 2 2 4 5 3 3 4 2 3 4 1 1 2 2 4 2 1 3 5 1 3 2 5 3 0 5 1 2 4 2 2 2 4 3 2 3 1 0 2 3 4 4 4 3 4 3 5 2 3 0 2 3 4 3 3 2 2 6 1 3 2 1 3 3 3 2 3 2 3 2 1 1 5 1 1 7 5 4 3 2 4 3 4 3 1 2 4 4 0 2 2 2 3 3 4 3 2 7 1 4 1 3 3 2 1 2 4 4 2 3 1 2 4 4 1 6 0 2 3 2 2 3 2 4 0 3 1 3 2 1 1 3 2 3 5 5 1 4 5 4 2 2 1 5 1 4 2 3 1 2 4 3 4 2 1 2 4 2 4 3 3 3 5 4 3 4 1 2 4 0 2 5 2 3 3 2 1 2 1 1 3 5 0 1 2 5 3 2 2 2 2 1 3 2 4 2 1 2 3 3 3 5 3 2 1 0 2 8 2 3 5 2 3 1 3 2 0 2 1 2 1 3 5 1 3 4 2 3 2 2 3 4 1 1 2 3 3 2 3 3 2 2 1 2 3 3 4 4 2 2 1 3 4 0 5 2 3 2 3 5 1 2 5 3 4 3 1 2 3 1 2 0 4 3 2 3 1 4 4 2 2 4 1 4 2 3 3 3 3 0 1 3 2 2 2 5 3 1 2 2 2 5 2 5 2 3 1 1 5 2 3 3 3 4 1 4 1 4 1 2 1 3 4 2 1 4 2 5 1 2 3 4 3 0 3 5 3 4 3 3 1 3 5 1 4 3 3 1 2 2 3 3 3 1 0 3 2 3 5 3 4 1 3 5 2 5 1 5 0 2 1 1 4 1 4 2 2 3 2 3 3 1 3 6 1 3 2 1 3 3 1 2 1 2 3 3 4 2 0 4 3 5 5 4 3 3 5 4 2 3 2 3 3 4 3 2 1 3 1 3 2 3 2 0 3 2 3 3 2 0 0 2 0 2 4 1 2 3 3 2 1 4 0 3 2 2 3 3 1 4 3 3 3 2 3 4 1 1 2 2 3 4 3 2 5 1 1 4 0 3 3 1 4 2 2 1 3 3 1 4 1 3 3 3 4 4 4 3 1 3 2 4 2 1 0 1 1 4 1 3 3 4 4 3 3 0 4 3 2 1 3 3 2 3 1 3 2 1 2 2 2 4 3 2 1 2 3 6 1 2 3 2 3 3 2 4 4 2 1 0 0 4 5 2 4 1 2 2 6 2 3 4 1 2 4 3 1 4 3 4 0 4 3 2 1 3 2 4 0 0 0 1 3 2 3 3 5 3 1 3 2 5 4 2 1 3 2 2 1 1 2 3 3 2 4 2 5 3 1 3 2 1 4 4 2 2 2 2 3 4 1 3 3 3 2\n",
      "C: 1 1 0 2 5 0 2 3 2 5 4 1 2 3 3 5 0 3 3 3 3 4 1 3 2 3 3 1 5 3 2 4 0 3 2 2 1 3 3 4 1 4 2 4 6 3 3 2 3 4 1 4 3 2 2 4 2 3 2 2 2 1 3 1 2 1 2 1 1 3 4 5 3 1 3 2 4 3 2 2 2 5 2 1 2 4 1 2 2 2 2 5 4 4 5 4 1 6 2 3 2 1 2 2 2 3 2 1 2 1 2 4 3 2 4 4 2 4 4 4 1 3 1 4 1 2 4 4 1 1 2 6 2 3 2 1 1 1 4 3 2 3 3 2 2 4 3 3 1 1 3 5 3 3 7 2 2 3 2 2 2 3 1 4 4 3 1 2 4 2 2 2 4 2 3 3 1 0 0 0 2 4 3 2 3 2 1 2 1 2 4 2 2 1 4 4 2 3 3 2 2 3 0 0 3 3 4 5 3 3 1 0 4 2 3 3 3 0 3 5 3 3 1 4 6 4 1 1 5 5 1 0 3 2 2 4 5 2 3 1 5 3 3 2 3 1 1 1 3 2 5 2 4 2 3 3 1 6 2 3 1 2 3 1 2 2 3 4 3 1 2 1 1 3 3 1 2 2 5 3 3 4 1 1 3 0 2 0 1 2 1 2 4 6 3 3 3 4 1 1 2 4 0 5 2 3 2 4 1 1 1 3 3 0 3 2 2 1 1 1 4 3 5 2 4 3 4 3 4 2 7 3 1 2 4 3 2 3 1 2 1 4 4 4 4 1 1 4 3 3 2 3 3 5 5 3 3 1 2 0 3 3 3 4 0 1 4 2 0 2 0 4 3 4 3 5 2 2 2 3 3 2 0 3 2 3 1 2 1 3 3 3 2 3 2 2 2 2 2 1 3 4 2 4 2 1 2 4 2 3 2 1 4 5 4 0 3 3 0 3 3 2 3 2 3 0 5 0 2 1 3 2 1 7 1 2 0 2 3 1 0 4 2 3 4 2 3 3 4 4 5 4 1 4 1 1 2 1 1 2 1 3 3 2 6 2 1 3 1 0 2 4 2 3 3 3 4 2 3 2 1 4 0 4 5 2 2 3 0 1 4 1 4 3 5 2 0 3 2 0 1 1 2 2 3 5 1 4 1 3 4 4 2 4 5 3 2 1 1 4 1 3 1 3 0 3 2 5 1 5 5 1 2 2 3 2 3 2 4 1 3 1 2 1 3 1 4 4 2 2 0 3 4 2 2 2 3 2 6 2 1 4 3 0 3 1 1 3 0 3 1 5 4 4 5 1 3 2 2 4 4 3 1 1 3 4 3 5 3 2 0 3 1 1 3 2 3 2 3 4 6 2 2 3 3 3 4 2 1 2 3 0 2 3 2 4 3 3 1 2 0 4 1 2 3 1 0 2 4 3 3 2 2 2 5 1 4 1 3 3 3 6 1 3 3 0 4 3 3 0 1 1 5 3 3 4 2 2 1 4 1 2 3 4 1 3 4 3 3 1 3 1 2 4 1 4 5 3 3 2 3 2 4 2 2 1 1 2 4 3 5 3 4 3 3 2 1 4 4 4 2 2 2 2 2 2 2 2 1 1 1 0 4 4 4 1 1 4 4 1 2 5 4 3 2 2 0 2 3 0 4 1 2 0 2 1 4 4 4 3 2 2 2 0 4 2 0 4 1 1 2 3 4 3 0 3 4 1 4 3 2 7 2 3 4 3 2 2 3 1 4 1 4 2 2 1 3 3 3 2 0 2 1 0 1 0 1 4 1 0 4 2 3 4 2 2 1 2 3 5 5 4 2 2 2 0 4 2 3 2 2 3 4 3 3 6 3 2 7 2 5 3 2 1 1 1 1 1 2 5 3 1 1 2 3 3 2 4 2 3 2 0 5 2 3 0 3 0 4 2 3 4 3 3 2 1 2 4 5 2 2 3 2 4 2 3 1 1 2 0 2 3 5 4 1 1 4 6 4 4 1 1 3 4 4 3 3 4 1 1 1 6 2 2 2 1 1 2 3 3 2 4 3 2 1 0 3 4 4 1 1 4 3 2 1 0 1 3 2 2 3 1 4 3 1 2 1 2 0 3 2 0 3 1 1 2 3 2 2 3 0 3 1 5 1 3 2 3 0 2 4 1 1 6 6 2 1 5 2 1 2 2 3 2 2 2 4 1 2 4 3 5 4 3 2 4 1 0 1 3 2 3 1 3 1 1 1 1 3 2 2 3 1 2 4 1 1 2\n",
      "G: 1 3 4 2 2 2 4 2 5 1 2 2 2 3 2 4 2 1 3 2 3 3 2 3 2 4 4 4 1 3 1 2 5 2 4 5 5 3 3 2 2 3 3 1 2 4 5 4 0 2 6 1 2 4 6 1 6 4 3 2 3 4 4 2 1 2 2 4 4 3 2 0 4 2 3 3 2 2 4 4 5 1 5 3 2 3 3 3 2 1 1 2 3 2 4 4 2 1 4 2 2 5 2 3 3 5 3 1 2 3 3 1 2 3 1 2 2 3 2 2 3 2 3 1 3 4 3 1 4 1 5 0 2 5 1 4 2 4 1 1 2 3 2 0 3 2 2 3 3 2 2 0 4 3 1 3 4 1 5 3 4 5 3 3 1 2 5 3 1 6 2 5 2 1 3 1 1 4 2 2 3 0 3 3 2 2 4 3 3 3 4 5 4 3 3 2 1 1 2 2 2 2 3 2 2 4 3 4 1 1 3 2 1 3 2 0 1 3 2 2 4 2 1 2 2 1 3 1 2 2 3 3 2 5 3 0 1 1 3 3 3 3 0 4 2 1 3 1 3 4 3 3 2 5 3 1 4 1 3 2 1 0 1 3 4 2 3 3 4 5 1 5 3 1 2 4 2 2 1 3 3 1 1 3 3 4 5 5 5 1 2 3 2 0 2 2 4 1 5 4 3 3 2 1 2 3 1 2 3 4 4 1 4 5 0 1 1 3 4 2 2 1 0 3 1 4 0 2 4 3 1 3 1 2 3 1 2 1 1 2 2 4 3 0 2 3 1 3 5 3 0 3 0 2 3 2 2 3 3 3 3 1 1 2 7 3 2 4 6 5 1 3 1 2 2 1 2 0 2 5 2 1 5 3 3 2 3 0 3 2 3 2 3 3 3 1 5 2 3 2 3 0 5 2 3 2 5 3 1 1 4 3 2 2 1 2 4 3 2 5 5 3 3 2 1 4 1 2 3 3 3 3 5 1 3 1 4 3 1 2 2 1 3 2 4 5 3 3 1 3 1 3 4 2 6 3 3 6 2 1 2 3 4 2 1 2 3 6 5 3 4 5 3 3 2 2 1 2 3 3 2 3 4 4 2 4 0 4 6 3 1 4 1 6 1 1 4 4 2 5 2 5 1 3 3 2 1 5 3 3 3 3 3 2 1 2 3 1 2 4 3 1 3 3 1 4 3 2 4 2 0 6 6 2 3 3 2 6 2 4 2 4 3 3 0 4 0 1 2 3 2 1 3 3 2 3 4 4 1 6 2 1 3 6 1 5 2 3 4 3 6 2 2 2 3 2 1 1 2 4 1 1 4 2 1 3 1 2 4 3 1 3 3 1 4 2 2 2 3 2 1 5 1 2 3 1 1 3 1 2 3 6 3 2 1 3 2 4 3 2 3 1 2 1 1 2 4 2 2 3 2 1 4 4 0 2 3 2 3 1 4 1 3 3 3 3 2 0 1 5 2 4 3 1 3 1 2 3 3 1 4 2 4 1 2 2 0 3 0 4 1 5 7 3 3 3 2 3 1 2 4 3 1 4 2 5 3 5 1 2 3 1 1 2 3 2 2 0 0 4 1 3 2 2 2 0 2 0 1 2 3 5 1 0 0 3 5 2 0 3 1 1 2 2 3 1 6 3 1 3 4 5 4 5 4 4 3 3 2 2 4 2 4 1 1 2 3 2 0 3 2 3 1 2 5 2 5 3 3 4 5 0 3 3 2 0 1 3 3 4 3 4 0 0 3 4 3 2 0 0 5 3 3 6 2 4 3 1 2 2 1 4 2 3 2 2 2 3 2 1 1 3 5 3 5 4 3 5 1 4 3 2 4 4 1 2 3 4 2 4 2 4 2 4 4 6 2 0 4 1 4 5 2 2 1 3 1 1 2 4 6 4 0 2 1 4 2 3 5 4 1 4 3 2 6 4 2 1 3 3 2 1 3 4 3 2 3 4 3 2 5 1 1 3 2 5 2 2 1 2 0 3 0 2 1 2 3 2 2 2 2 0 2 2 2 4 2 2 3 1 5 2 2 2 3 3 4 3 2 4 2 2 1 1 6 4 2 2 2 2 0 5 2 4 4 0 3 1 4 3 3 3 2 4 2 2 4 3 3 1 4 2 3 3 3 2 1 0 3 4 0 5 4 4 0 3 4 2 4 2 3 4 4 3 1 2 2 3 4 3 3 3 2 3 1 0 1 3 4 1 2 2 1 1 4 2 2 6 3 3 1 2 3 4 1 2 3 3\n",
      "T: 3 3 3 2 1 4 2 3 1 3 3 4 4 3 1 0 2 2 1 2 2 1 3 3 3 2 2 2 3 2 4 2 0 5 3 3 2 2 1 3 4 1 3 1 1 3 1 1 2 1 1 1 0 1 0 3 1 1 2 4 2 1 0 6 4 4 2 2 2 3 3 1 2 3 1 2 2 3 0 2 1 2 2 1 1 1 3 2 2 5 4 1 3 1 0 1 4 1 3 5 3 2 1 4 1 0 2 3 0 3 3 1 0 3 3 0 3 2 2 2 5 1 4 3 4 2 1 2 3 3 3 1 2 1 1 2 3 2 4 3 3 3 1 5 4 3 3 4 1 2 4 3 2 2 1 2 3 3 1 3 1 0 4 1 2 3 2 2 3 0 5 1 3 4 3 4 5 1 6 3 2 3 4 2 5 2 2 2 1 2 1 3 4 2 0 1 3 2 2 3 3 1 2 2 3 1 2 1 4 2 4 4 3 1 2 6 5 6 3 1 2 2 3 3 1 0 3 6 1 0 3 3 4 1 3 2 3 4 1 4 2 3 5 2 4 6 4 4 1 2 1 3 4 2 2 1 0 1 3 4 5 3 4 5 3 2 2 1 1 3 3 2 3 2 2 3 2 4 3 3 1 3 3 3 2 2 2 1 3 5 3 4 3 2 4 3 0 3 2 3 3 1 3 0 2 2 2 2 3 2 1 4 2 1 7 4 5 2 2 4 2 4 2 3 2 2 4 2 0 2 1 2 5 3 2 4 4 5 4 4 0 0 2 3 1 1 5 1 0 2 6 3 4 2 0 2 2 2 2 5 0 3 1 2 0 2 4 2 4 0 4 1 4 1 2 1 4 6 4 0 3 4 2 2 3 1 1 5 3 1 2 2 1 3 4 5 1 2 3 6 1 1 2 1 3 2 0 3 2 5 2 2 2 1 3 4 0 2 5 1 2 3 1 2 2 2 1 4 2 1 2 2 4 0 3 3 3 2 4 5 2 4 2 3 1 0 1 1 3 0 2 0 3 3 2 1 4 2 0 2 3 1 1 2 0 2 3 0 2 3 0 1 3 2 3 2 2 2 1 3 0 2 2 1 0 1 6 2 2 2 1 3 2 0 2 3 2 2 0 5 5 1 5 3 1 1 4 1 3 3 0 1 4 3 1 3 2 3 2 1 2 1 2 2 7 2 0 2 1 1 2 2 0 2 1 1 3 1 2 1 3 1 2 3 4 0 2 2 2 4 6 2 3 3 1 3 0 1 1 1 5 4 3 1 1 4 6 2 1 1 1 1 2 2 1 4 4 3 4 1 3 3 2 4 1 0 4 2 3 3 1 2 3 3 1 3 4 3 2 4 1 2 5 4 1 1 4 2 4 4 1 2 3 2 3 2 4 1 3 3 5 2 4 5 4 6 4 3 1 0 1 5 2 3 2 3 3 2 2 3 1 0 1 3 2 2 1 3 3 4 5 2 1 4 4 1 3 3 3 4 1 2 1 3 3 4 2 2 4 2 3 1 1 2 3 1 1 2 1 3 2 3 3 2 1 2 1 1 2 4 1 1 3 2 1 3 3 5 2 1 3 4 4 5 3 4 4 7 4 5 1 4 3 3 2 3 4 1 1 3 3 1 1 4 2 2 3 1 3 4 1 2 2 2 1 2 2 3 1 3 1 1 1 5 4 3 2 2 4 5 1 4 3 4 4 1 0 2 1 1 0 1 2 1 3 4 1 4 1 3 2 2 3 7 3 4 2 2 4 4 3 5 2 1 2 1 2 2 4 3 1 2 2 1 3 3 3 2 3 3 1 2 0 3 0 4 3 0 4 1 2 3 2 3 4 2 2 0 0 2 0 0 4 4 1 3 4 7 2 1 0 3 3 3 3 1 5 2 2 2 1 4 3 3 2 3 3 2 0 3 2 2 1 2 1 1 4 3 1 2 3 5 1 1 2 2 3 1 1 4 0 5 1 1 3 2 3 2 4 3 5 5 4 1 1 1 1 1 7 3 4 2 5 3 3 3 4 5 1 4 2 2 3 4 2 4 1 2 2 2 1 3 4 4 1 3 4 3 2 2 5 3 4 3 1 3 4 3 5 2 3 1 3 2 3 5 1 1 2 5 2 2 2 2 2 2 5 6 4 2 2 4 5 0 3 2 3 0 1 2 2 3 0 3 2 2 2 5 1 1 2 1 3 2 4 3 6 3 3 1 3 4 5 4 4 3 3 1 2 3 5 2 2 3 2 4 3 3\n"
     ]
    }
   ],
   "metadata": {}
  }
 ],
 "metadata": {
  "orig_nbformat": 4,
  "language_info": {
   "name": "python",
   "version": "3.8.8",
   "mimetype": "text/x-python",
   "codemirror_mode": {
    "name": "ipython",
    "version": 3
   },
   "pygments_lexer": "ipython3",
   "nbconvert_exporter": "python",
   "file_extension": ".py"
  },
  "kernelspec": {
   "name": "python3",
   "display_name": "Python 3.8.8 64-bit ('base': conda)"
  },
  "interpreter": {
   "hash": "7dae6437c12b1d87f00e0e10a4bd22be66a3b8ec05fb1161d95372f28c39fa9e"
  }
 },
 "nbformat": 4,
 "nbformat_minor": 2
}