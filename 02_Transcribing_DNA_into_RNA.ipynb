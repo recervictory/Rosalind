{
 "cells": [
  {
   "cell_type": "markdown",
   "source": [
    "# Transcribing DNA into RNA\r\n",
    "![Rosalind](logo.jpg)\r\n",
    "\r\n",
    "An RNA string is a string formed from the alphabet containing 'A', 'C', 'G', and 'U'.\r\n",
    "\r\n",
    "Given a DNA string t corresponding to a coding strand, its transcribed RNA string u is formed by replacing all occurrences of 'T' in t with 'U' in u.\r\n",
    "\r\n",
    "#### Given: A DNA string t having length at most 1000 nt.\r\n",
    "\r\n",
    "#### Return: The transcribed RNA string of t."
   ],
   "metadata": {}
  },
  {
   "cell_type": "markdown",
   "source": [
    "## Sample Dataset\r\n",
    "```\r\n",
    "GATGGAACTTGACTACGTAAATT\r\n",
    "```\r\n",
    "## Sample Output\r\n",
    "```\r\n",
    "GAUGGAACUUGACUACGUAAAUU\r\n",
    "```"
   ],
   "metadata": {}
  },
  {
   "cell_type": "code",
   "execution_count": 2,
   "source": [
    "'''\r\n",
    "A solution to a ROSALIND bioinformatics problem.\r\n",
    "Problem Title: Transcribing DNA into RNA\r\n",
    "Rosalind ID: RNA\r\n",
    "Rosalind #: 002\r\n",
    "URL: http://rosalind.info/problems/rna/\r\n",
    "'''\r\n",
    "\r\n",
    "with open('data/rosalind_rna.txt') as input_data:\r\n",
    "\tdna = input_data.read().strip()\r\n",
    "\r\n",
    "with open('output/002_RNA.txt', 'w') as output_data:\r\n",
    "\toutput_data.write(dna.replace('T', 'U'))\r\n",
    "\tprint(dna.replace('T', 'U'))"
   ],
   "outputs": [
    {
     "output_type": "stream",
     "name": "stdout",
     "text": [
      "CCGAGGGCUGUCGUUUCGUUGCGGCCAGACGGAGAAUUCGGUAAACACAGGGUCUCUUAGCAUGUUGUGCGGAACCAUUAGCCUGAGUGCUUGGGAAGGCCGACGCAGUGGAAGAAGUCGGAAAUUGAUGGUCUGGAACAACCAAGGGAGGUACAUGAGUGCAGAUUAUGCGAGCACGGCUGGCCCAAUGAGUGUGGCCUCGGUGAUUCUGUACUCUACGGCUAUAUUCGGCCUGUUCGACGGUCGAGGGGAGUAAUCCCCGUAGCGGCGCUGUGUAGGGUUAGUUGUAAGAGUUAUACCGGCACUCGAGUGCCACUUUAUUGAGGUCAAUCGACACCGCAAGGCUGCGCUUGCUAUUAGCUUUACCCCGAAACUGUCCCGAGCUUACCAUUACCUUUAGAGAUUUAAUAAAUCCGGGUAAACGUCUAGCCCUCACUGAUCCCCGAUCCACGGGCAUGUUUCUGGAGUUUAGUUUCAGGUCUUGAUAUCCUAGGUCCAUUGCUAAUACUCAGUCAAGAGCUCACGUAGUUUCGGUCCACGGUAUUCUUCUUGUUGAGAUACUCAGUUUUCGGUCAGAAGAAAAGAGCAAUCCGAGACGCUCCCUUCACAUUCACGCCUAGGCUUCCGAUGGGGGAUUCGAAAGCUCGGCUUGCAUAGGCUCGAAGCUCCCUGGUUACGAUGAUGUUAUACAAAGAGUCUUGAUGAGACUCGUUGGCGAAGCUCCUGAGCGCUCGUUUCUUACCGACAAUAAGAACGACUGCCGUUCGUCACACGAAUAAAGGUAUCCUCUAGUUCUUUAACCACUGCGAUGUACAUUAGUACAGCUUAAAUAGAAGGGCUGGCGUGCGAUGGGUAGUAGAUCUUGUAGGCGACGUUAGGACGGAAAGCACACUUCGGGUUUCUUGAGGCGGCUAGCUCACAGAAUAUAGCUCAUGAGAGAGUACGCACCAGA\n"
     ]
    }
   ],
   "metadata": {}
  }
 ],
 "metadata": {
  "orig_nbformat": 4,
  "language_info": {
   "name": "python",
   "version": "3.8.8",
   "mimetype": "text/x-python",
   "codemirror_mode": {
    "name": "ipython",
    "version": 3
   },
   "pygments_lexer": "ipython3",
   "nbconvert_exporter": "python",
   "file_extension": ".py"
  },
  "kernelspec": {
   "name": "python3",
   "display_name": "Python 3.8.8 64-bit ('base': conda)"
  },
  "interpreter": {
   "hash": "7dae6437c12b1d87f00e0e10a4bd22be66a3b8ec05fb1161d95372f28c39fa9e"
  }
 },
 "nbformat": 4,
 "nbformat_minor": 2
}