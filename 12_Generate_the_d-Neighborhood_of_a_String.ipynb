{
 "cells": [
  {
   "cell_type": "markdown",
   "metadata": {},
   "source": [
    "# [Generate the d-Neighborhood of a String](http://rosalind.info/)\n",
    "![Rosalind](logo.jpg)"
   ]
  },
  {
   "cell_type": "markdown",
   "metadata": {},
   "source": [
    "## Problem\n",
    "Generate the d-Neighborhood of a String\n",
    "\n",
    "\n",
    "#### Given:  A DNA string Pattern and an integer d.\n",
    "\n",
    "#### Return:  The collection of strings Neighbors(Pattern, d).\n",
    "\n",
    "### Sample Dataset:\n",
    "```\n",
    "ACG\n",
    "1\n",
    "```\n",
    "### Sample Output\n",
    "```\n",
    "CCG\n",
    "TCG\n",
    "GCG\n",
    "AAG\n",
    "ATG\n",
    "AGG\n",
    "ACA\n",
    "ACC\n",
    "ACT\n",
    "ACG\n",
    "```"
   ]
  },
  {
   "cell_type": "markdown",
   "metadata": {},
   "source": [
    "## Pseudocode\n",
    "---\n",
    "```\n",
    " ImmediateNeighbors(Pattern)\n",
    "        Neighborhood ← the set consisting of single string Pattern\n",
    "        for i = 1 to |Pattern|\n",
    "            symbol ← i-th nucleotide of Pattern\n",
    "            for each nucleotide x different from symbol\n",
    "                Neighbor ← Pattern with the i-th nucleotide substituted by x\n",
    "                add Neighbor to Neighborhood\n",
    "        return Neighborhood\n",
    "```\n",
    "---\n",
    "```\n",
    "  Neighbors(Pattern, d)\n",
    "        if d = 0\n",
    "            return {Pattern}\n",
    "        if |Pattern| = 1 \n",
    "            return {A, C, G, T}\n",
    "        Neighborhood ← an empty set\n",
    "        SuffixNeighbors ← Neighbors(Suffix(Pattern), d)\n",
    "        for each string Text from SuffixNeighbors\n",
    "            if HammingDistance(Suffix(Pattern), Text) < d\n",
    "                for each nucleotide x\n",
    "                    add x • Text to Neighborhood\n",
    "            else\n",
    "                add FirstSymbol(Pattern) • Text to Neighborhood\n",
    "        return Neighborhood\n",
    "```\n",
    "---"
   ]
  },
  {
   "cell_type": "code",
   "execution_count": 25,
   "metadata": {},
   "outputs": [],
   "source": [
    "with open(\"data/rosalind_ba1n.txt\", \"r\") as f:\n",
    "        Text = f.readline().strip()\n",
    "        d = int(f.readline().strip())\n",
    "\n",
    "def GenerateArray(k):\n",
    "    bases = ['A', 'C', 'G', 'T']\n",
    "    array = bases\n",
    "    for n in range(k-1):\n",
    "        array = [i+j for i in array for j in bases]\n",
    "    return array\n",
    "\n",
    "def HammingDistance(s1, s2):\n",
    "    d = sum([1 for i in range(len(s1)) if s1[i]!=s2[i]])\n",
    "    return d\n",
    "\n",
    "def Neighbors(pattern, d):\n",
    "    array = GenerateArray(len(pattern))\n",
    "    neighbors = []\n",
    "    for i in array:\n",
    "        if HammingDistance(pattern, i) <= d:\n",
    "            neighbors.append(i)\n",
    "    return neighbors\n",
    "\n",
    "out = \"\\n\".join(Neighbors(Text,d))\n",
    "with open('output/rosalind_ba1n.txt', 'w') as output_data:\n",
    "    output_data.write(out)"
   ]
  }
 ],
 "metadata": {
  "interpreter": {
   "hash": "7dae6437c12b1d87f00e0e10a4bd22be66a3b8ec05fb1161d95372f28c39fa9e"
  },
  "kernelspec": {
   "display_name": "Python 3.8.8 64-bit ('base': conda)",
   "name": "python3"
  },
  "language_info": {
   "codemirror_mode": {
    "name": "ipython",
    "version": 3
   },
   "file_extension": ".py",
   "mimetype": "text/x-python",
   "name": "python",
   "nbconvert_exporter": "python",
   "pygments_lexer": "ipython3",
   "version": "3.8.8"
  },
  "orig_nbformat": 4
 },
 "nbformat": 4,
 "nbformat_minor": 2
}
