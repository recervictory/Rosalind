{
 "cells": [
  {
   "cell_type": "markdown",
   "source": [
    "# [Rabbits and Recurrence Relations](http://rosalind.info/problems/fib/)\r\n",
    "![Rosalind](logo.jpg)"
   ],
   "metadata": {}
  },
  {
   "cell_type": "markdown",
   "source": [
    "## Problem\r\n",
    "A sequence is an ordered collection of objects (usually numbers), which are allowed to repeat. Sequences can be finite or infinite. Two examples are the finite sequence (π,−2–√,0,π) and the infinite sequence of odd numbers (1,3,5,7,9,…). We use the notation an to represent the n-th term of a sequence.\r\n",
    "\r\n",
    "A recurrence relation is a way of defining the terms of a sequence with respect to the values of previous terms. In the case of Fibonacci's rabbits from the introduction, any given month will contain the rabbits that were alive the previous month, plus any new offspring. A key observation is that the number of offspring in any month is equal to the number of rabbits that were alive two months prior. As a result, if Fn represents the number of rabbit pairs alive after the n-th month, then we obtain the Fibonacci sequence having terms Fn that are defined by the recurrence relation Fn=Fn−1+Fn−2 (with F1=F2=1 to initiate the sequence). Although the sequence bears Fibonacci's name, it was known to Indian mathematicians over two millennia ago.\r\n",
    "\r\n",
    "When finding the n-th term of a sequence defined by a recurrence relation, we can simply use the recurrence relation to generate terms for progressively larger values of n. This problem introduces us to the computational technique of dynamic programming, which successively builds up solutions by using the answers to smaller cases.\r\n"
   ],
   "metadata": {}
  },
  {
   "cell_type": "markdown",
   "source": [
    "### Given: \r\n",
    " Positive integers n≤40 and k≤5.\r\n",
    "\r\n",
    "### Return: \r\n",
    " The total number of rabbit pairs that will be present after n months, if we begin with 1 pair and in each generation, every pair of reproduction-age rabbits produces a litter of k rabbit pairs (instead of only 1 pair).\r\n",
    "\r\n",
    "## Sample Dataset\r\n",
    "> 5 3\r\n",
    "\r\n",
    "## Sample Output\r\n",
    "> 19"
   ],
   "metadata": {}
  },
  {
   "cell_type": "code",
   "execution_count": 1,
   "source": [
    "'''\r\n",
    "A solution to a ROSALIND bioinformatics problem.\r\n",
    "Problem Title: Rabbits and Recurrence Relations\r\n",
    "Rosalind ID: FIB\r\n",
    "Rosalind #: 004\r\n",
    "URL: http://rosalind.info/problems/fib/\r\n",
    "'''\r\n",
    "\r\n",
    "with open('data/rosalind_fib.txt') as input_data:\r\n",
    "\tn,k = map(int, input_data.read().split())\r\n",
    "\r\n",
    "\r\n",
    "def Fib(n,k):\r\n",
    "    '''The total number of rabbit pairs that will be present \r\n",
    "    after n months if we begin with 1 pair and in each generation, \r\n",
    "    every pair of reproduction-age rabbits produces a litter of k rabbit pairs\r\n",
    "    ''' \r\n",
    "    previous, next =  1, 1\r\n",
    "    for i in range(2,n):\r\n",
    "        previous, next = next, (previous * k) + next\r\n",
    "    return next\r\n",
    "\r\n",
    "rabbits = str(Fib(n,k))\r\n",
    "print(rabbits)\r\n",
    "with open('output/004_FIB.txt', 'w') as output_data:\r\n",
    "    output_data.write(rabbits)"
   ],
   "outputs": [
    {
     "output_type": "stream",
     "name": "stdout",
     "text": [
      "1117836738901\n"
     ]
    }
   ],
   "metadata": {}
  }
 ],
 "metadata": {
  "orig_nbformat": 4,
  "language_info": {
   "name": "python",
   "version": "3.8.8",
   "mimetype": "text/x-python",
   "codemirror_mode": {
    "name": "ipython",
    "version": 3
   },
   "pygments_lexer": "ipython3",
   "nbconvert_exporter": "python",
   "file_extension": ".py"
  },
  "kernelspec": {
   "name": "python3",
   "display_name": "Python 3.8.8 64-bit ('base': conda)"
  },
  "interpreter": {
   "hash": "7dae6437c12b1d87f00e0e10a4bd22be66a3b8ec05fb1161d95372f28c39fa9e"
  }
 },
 "nbformat": 4,
 "nbformat_minor": 2
}