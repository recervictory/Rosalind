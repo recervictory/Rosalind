{
 "cells": [
  {
   "cell_type": "markdown",
   "source": [
    "# [Mendel's First Law](http://rosalind.info/problems/iprb/)\r\n",
    "![Rosalind](logo.jpg)\r\n",
    "\r\n",
    "## Introduction to Mendelian Inheritance\r\n",
    "Modern laws of inheritance were first described by Gregor Mendel (an Augustinian Friar) in 1865. The contemporary hereditary model, called blending inheritance, stated that an organism must exhibit a blend of its parent's traits. This rule is obviously violated both empirically (consider the huge number of people who are taller than both their parents) and statistically (over time, blended traits would simply blend into the average, severely limiting variation).\r\n",
    "\r\n",
    "Mendel, working with thousands of pea plants, believed that rather than viewing traits as continuous processes, they should instead be divided into discrete building blocks called factors. Furthermore, he proposed that every factor possesses distinct forms, called alleles.\r\n",
    "\r\n",
    "In what has come to be known as his first law (also known as the law of segregation), Mendel stated that every organism possesses a pair of alleles for a given factor. If an individual's two alleles for a given factor are the same, then it is homozygous for the factor; if the alleles differ, then the individual is heterozygous. The first law concludes that for any factor, an organism randomly passes one of its two alleles to each offspring, so that an individual receives one allele from each parent.\r\n",
    "\r\n",
    "Mendel also believed that any factor corresponds to only two possible alleles, the dominant and recessive alleles. An organism only needs to possess one copy of the dominant allele to display the trait represented by the dominant allele. In other words, the only way that an organism can display a trait encoded by a recessive allele is if the individual is homozygous recessive for that factor.\r\n",
    "\r\n",
    "We may encode the dominant allele of a factor by a capital letter (e.g., A) and the recessive allele by a lower case letter (e.g., a). Because a heterozygous organism can possess a recessive allele without displaying the recessive form of the trait, we henceforth define an organism's genotype to be its precise genetic makeup and its phenotype as the physical manifestation of its underlying traits.\r\n",
    "\r\n",
    "![Punnett Square](http://rosalind.info/media/problems/iprb/220px-Punnett_Square.svg.png)\r\n"
   ],
   "metadata": {}
  },
  {
   "cell_type": "markdown",
   "source": [
    "## Problem\r\n",
    "Probability is the mathematical study of randomly occurring phenomena. We will model such a phenomenon with a random variable, which is simply a variable that can take a number of different distinct outcomes depending on the result of an underlying random process.\r\n",
    "\r\n",
    "For example, say that we have a bag containing 3 red balls and 2 blue balls. If we let X represent the random variable corresponding to the color of a drawn ball, then the probability of each of the two outcomes is given by $Pr(X=red)=\\frac{3}{5}$ and $Pr(X=blue)=\\frac{2}{5}$.\r\n",
    "\r\n",
    "Random variables can be combined to yield new random variables. Returning to the ball example, let Y model the color of a second ball drawn from the bag (without replacing the first ball). The probability of $Y$ being red depends on whether the first ball was red or blue. To represent all outcomes of X and Y, we therefore use a probability tree diagram. This branching diagram represents all possible individual probabilities for $X$ and $Y$, with outcomes at the endpoints (\"leaves\") of the tree. The probability of any outcome is given by the product of probabilities along the path from the beginning of the tree;\r\n",
    "\r\n",
    "![alt](http://rosalind.info/media/problems/iprb/balls_tree.png)\r\n",
    "\r\n",
    "An event is simply a collection of outcomes. Because outcomes are distinct, the probability of an event can be written as the sum of the probabilities of its constituent outcomes. For our colored ball example, let A be the event \"Y is blue.\" Pr(A) is equal to the sum of the probabilities of two different outcomes: $Pr(X=blue and Y=blue)$ + Pr(X=red and Y=blue), or 310+110=25\r\n"
   ],
   "metadata": {}
  },
  {
   "cell_type": "markdown",
   "source": [
    "### Given: Three positive integers k, m, and n, representing a population containing k+m+n organisms: k individuals are homozygous dominant for a factor, m are heterozygous, and n are homozygous recessive.\r\n",
    "\r\n",
    "### Return: The probability that two randomly selected mating organisms will produce an individual possessing a dominant allele (and thus displaying the dominant phenotype). Assume that any two organisms can mate."
   ],
   "metadata": {}
  },
  {
   "cell_type": "markdown",
   "source": [
    "### Sample Dataset\r\n",
    "> 2 2 2\r\n",
    "### Sample Output\r\n",
    "> 0.78333"
   ],
   "metadata": {}
  },
  {
   "cell_type": "code",
   "execution_count": 2,
   "source": [
    "'''\r\n",
    "A solution to a ROSALIND bioinformatics problem.\r\n",
    "Problem Title: Mendel's First Law\r\n",
    "Rosalind ID: IPRB\r\n",
    "Rosalind #: 007\r\n",
    "URL: http://rosalind.info/problems/iprb/\r\n",
    "'''\r\n",
    "from scipy.special import comb\r\n",
    "\r\n",
    "with open('data/rosalind_iprb.txt') as input_data:\r\n",
    "\thom, het, rec = map(int, input_data.read().split())\r\n",
    "\r\n",
    "def mendelFirstLaw(hom, het, rec):\r\n",
    "\ttotal_organisms = comb(hom + het + rec,2)  # Total Number of Organisms combination NC2 \r\n",
    "\ttotal_offspring =  4 * total_organisms  # 2 organisms can produce 4 offspring\r\n",
    "\ttotal_recessive = 4*comb(rec,2) + 2*het*rec  + 1*comb(het,2) # Four Offspring from both ressesive, two heterozygous and homozygous ressessive and one from heterozygous \r\n",
    "\ttotal_dominated =  1 - (total_recessive/total_offspring )\r\n",
    "\treturn total_dominated\r\n",
    "\r\n",
    "print(\"Dominant allele Probability:\" mendelFirstLaw(hom, het, rec))\r\n",
    "\r\n",
    "with open('output/007_IRPB.txt', 'w') as output_data:\r\n",
    "\toutput_data.write(str(mendelFirstLaw(hom, het, rec)))"
   ],
   "outputs": [
    {
     "output_type": "stream",
     "name": "stdout",
     "text": [
      "0.6499255952380952\n"
     ]
    }
   ],
   "metadata": {}
  }
 ],
 "metadata": {
  "orig_nbformat": 4,
  "language_info": {
   "name": "python",
   "version": "3.8.8",
   "mimetype": "text/x-python",
   "codemirror_mode": {
    "name": "ipython",
    "version": 3
   },
   "pygments_lexer": "ipython3",
   "nbconvert_exporter": "python",
   "file_extension": ".py"
  },
  "kernelspec": {
   "name": "python3",
   "display_name": "Python 3.8.8 64-bit ('base': conda)"
  },
  "interpreter": {
   "hash": "7dae6437c12b1d87f00e0e10a4bd22be66a3b8ec05fb1161d95372f28c39fa9e"
  }
 },
 "nbformat": 4,
 "nbformat_minor": 2
}