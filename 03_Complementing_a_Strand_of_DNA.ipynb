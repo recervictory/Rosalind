{
 "cells": [
  {
   "cell_type": "markdown",
   "source": [
    "# [Complementing a Strand of DNA](http://rosalind.info/problems/revc/)\r\n",
    "![Rosalind](logo.jpg)"
   ],
   "metadata": {}
  },
  {
   "cell_type": "markdown",
   "source": [
    "## Problem\r\n",
    "In DNA strings, symbols 'A' and 'T' are complements of each other, as are 'C' and 'G'.\r\n",
    "\r\n",
    "The reverse complement of a DNA string s is the string sc formed by reversing the symbols of s, then taking the complement of each symbol (e.g., the reverse complement of \"GTCA\" is \"TGAC\").\r\n",
    "\r\n",
    "#### Given: A DNA string s of length at most 1000 bp.\r\n",
    "\r\n",
    "#### Return: The reverse complement sc of s.\r\n",
    "\r\n",
    "### Sample Dataset\r\n",
    "```\r\n",
    "AAAACCCGGT\r\n",
    "```\r\n",
    "### Sample Output\r\n",
    "```\r\n",
    "ACCGGGTTTT\r\n",
    "```"
   ],
   "metadata": {}
  },
  {
   "cell_type": "code",
   "execution_count": 10,
   "source": [
    "'''\r\n",
    "A solution to a ROSALIND bioinformatics problem.\r\n",
    "Problem Title: Complementing a Strand of DNA\r\n",
    "Rosalind ID: REVC\r\n",
    "Rosalind #: 003\r\n",
    "URL: http://rosalind.info/problems/revc/\r\n",
    "'''\r\n",
    "\r\n",
    "with open('data/rosalind_revc.txt') as input_data:\r\n",
    "\tdna = input_data.read()\r\n",
    "\r\n",
    "nucleotide = 'ATCG'\r\n",
    "complement = 'TAGC'\r\n",
    "\r\n",
    "# str.maketrans(This is the string having actual characters, This is the string having corresponding mapping character.]) \r\n",
    "transtab = str.maketrans(nucleotide, complement) \r\n",
    "dna_reverse_complement = dna.translate(transtab)[::-1].lstrip()\r\n",
    "\r\n",
    "print(dna_reverse_complement)\r\n",
    "\r\n",
    "with open('output/003_REVC.txt', 'w') as output_data:\r\n",
    "\toutput_data.write(dna_reverse_complement)"
   ],
   "outputs": [
    {
     "output_type": "stream",
     "name": "stdout",
     "text": [
      "CTCTGTAGAATTTTTCAGCTGAGGGTCGTTATCCGTGGTTGCGCTTTGTTACTTACAAAGTATGAGAAGGTACGCGTCACTCATTGGCACACTACCAGTCAAAACGATAGCTCTTGGGACGACGGCAAGGTATTCCGGGCATTCATATAGCTCTGTAAGTCAACTACGAAGTTACAAGGAGGGGATTCGCGGTGAGCGATTTTCAAGTGTCTTCCATGAACTCGGCCTGTCCGTATCAGCTGCTTCACAATAATGCTTAGGGGCCTGCTATTCCTGGTACACGTCAACATTAGACGTTGGAGACGATTCTACCCGCACATTCCCTCCTGAGTTCTGCTTTTGCTGCAAGAACGGGCCAATATAACGGCCGATTAATAGATCGCGTGTTTCAAGGGTAAACACGTGCAGTGACCTTGTTATATTGGTCGTCCATCCGCCCCCTCGATATACAAGCGTATCTCATAATTAAAGAGAGTTTTCCAGAATGACTCGTGCACAAGCTTCAAAACTTACGCTTTGCGGACTTCGCCTCTCACGGTCCACAGAGGGAGACCACACGTCTTTCATCGCTCCACTCCGTTCGACTACCATTAGCTCTTGTCATTAGGTCCCAGAACTTACAAACACGGTCATGTGTCGGCACCGCCGCTTGGCGGGGAAGCAACGGATGGGTATAGGCCCATCCGTTCGAGTGACCTTATGATTCATTGAAAACAGGTTGCCCTCTTGACGCTAACGACTTCTGGGCCATAGGAGGGAAGACAACGCATCACTCATCTATGCGTTGACCCGGAATCCTGGGAACCCCCGCTCAAAGCTAGAGTCACTCCATGTTGTGTCGTCCCCATTTCGACCAACATATAACGGCCACCTGATCTTCGTCTGTATAAACACTTTAGTGGACTCGCTAGATCCATAGACATTTGTCACCGCCGCTTGATGGCTTTCCGCG\n"
     ]
    }
   ],
   "metadata": {}
  }
 ],
 "metadata": {
  "orig_nbformat": 4,
  "language_info": {
   "name": "python",
   "version": "3.8.8",
   "mimetype": "text/x-python",
   "codemirror_mode": {
    "name": "ipython",
    "version": 3
   },
   "pygments_lexer": "ipython3",
   "nbconvert_exporter": "python",
   "file_extension": ".py"
  },
  "kernelspec": {
   "name": "python3",
   "display_name": "Python 3.8.8 64-bit ('base': conda)"
  },
  "interpreter": {
   "hash": "7dae6437c12b1d87f00e0e10a4bd22be66a3b8ec05fb1161d95372f28c39fa9e"
  }
 },
 "nbformat": 4,
 "nbformat_minor": 2
}