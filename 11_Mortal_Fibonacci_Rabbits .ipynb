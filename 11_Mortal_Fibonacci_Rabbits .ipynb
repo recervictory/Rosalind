{
 "cells": [
  {
   "cell_type": "markdown",
   "source": [
    "# [Mortal Fibonacci Rabbits](http://rosalind.info/problems/fibd/)\r\n",
    "![Rosalind](logo.jpg)"
   ],
   "metadata": {}
  },
  {
   "cell_type": "markdown",
   "source": [
    "## Problem\r\n",
    "Recall the definition of the Fibonacci numbers from “Rabbits and Recurrence Relations”, which followed the recurrence relation $F_n=F_{n−1}+F_{n−2}$ and assumed that each pair of rabbits reaches maturity in **`one month`** and produces a single pair of offspring (one male, one female) each subsequent month.\r\n",
    "\r\n",
    "Our aim is to somehow modify this recurrence relation to achieve a **dynamic programming** solution in the case that all rabbits die out after a fixed number of months. See Figure 4 for a depiction of a rabbit tree in which rabbits live for three months (meaning that they reproduce only twice before dying).\r\n",
    "\r\n",
    "\r\n",
    "#### Given: Positive integers n≤100 and m≤20.\r\n",
    "\r\n",
    "#### Return: The total number of pairs of rabbits that will remain after the n-th month if all rabbits live for m months.\r\n",
    "\r\n",
    "### Sample Dataset\r\n",
    "```\r\n",
    "6 3\r\n",
    "```\r\n",
    "### Sample Output\r\n",
    "```\r\n",
    "4\r\n",
    "```"
   ],
   "metadata": {}
  },
  {
   "cell_type": "code",
   "execution_count": 3,
   "source": [
    "'''\r\n",
    "A solution to a ROSALIND bioinformatics problem.\r\n",
    "Problem Title: Mortal Fibonacci Rabbits\r\n",
    "Rosalind ID: FIBD\r\n",
    "Rosalind #: 011\r\n",
    "URL: http://rosalind.info/problems/fibd/\r\n",
    "'''\r\n",
    "\r\n",
    "with open('data/rosalind_fibd.txt') as input_data:\r\n",
    "    n,m = map(int, input_data.read().split())\r\n",
    "\r\n",
    "def bunnies(generation,months):\r\n",
    "    '''\r\n",
    "    Fn = Bn + Rn [Rn = B n-1]\r\n",
    "\r\n",
    "    '''\r\n",
    "    if generation < 1:\r\n",
    "        return 0\r\n",
    "    else:\r\n",
    "        if generation == 1:\r\n",
    "            return 1\r\n",
    "        else:\r\n",
    "            sumBunnies = 0\r\n",
    "            for i in range(2,m + 1):\r\n",
    "                sumBunnies += bunnies(generation - i,months)\r\n",
    "            return sumBunnies\r\n",
    "\r\n",
    "def mortalRabbit(generation,months):\r\n",
    "    return bunnies(generation,months) +bunnies(generation + 1,months)\r\n",
    "\r\n",
    "Total_Rabbits = mortalRabbit(n,m)\r\n",
    "\r\n",
    "# Write the output data.\r\n",
    "with open('output/011_FIBD.txt', 'w') as output_data: \r\n",
    "\tprint(Total_Rabbits)\r\n",
    "\toutput_data.write(str(Total_Rabbits))"
   ],
   "outputs": [
    {
     "output_type": "stream",
     "name": "stdout",
     "text": [
      "28\n"
     ]
    }
   ],
   "metadata": {}
  },
  {
   "cell_type": "code",
   "execution_count": null,
   "source": [],
   "outputs": [],
   "metadata": {}
  }
 ],
 "metadata": {
  "orig_nbformat": 4,
  "language_info": {
   "name": "python",
   "version": "3.8.8",
   "mimetype": "text/x-python",
   "codemirror_mode": {
    "name": "ipython",
    "version": 3
   },
   "pygments_lexer": "ipython3",
   "nbconvert_exporter": "python",
   "file_extension": ".py"
  },
  "kernelspec": {
   "name": "python3",
   "display_name": "Python 3.8.8 64-bit ('base': conda)"
  },
  "interpreter": {
   "hash": "7dae6437c12b1d87f00e0e10a4bd22be66a3b8ec05fb1161d95372f28c39fa9e"
  }
 },
 "nbformat": 4,
 "nbformat_minor": 2
}